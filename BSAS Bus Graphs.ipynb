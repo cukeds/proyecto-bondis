{
 "cells": [
  {
   "cell_type": "code",
   "execution_count": 2,
   "id": "90b75d79",
   "metadata": {
    "ExecuteTime": {
     "end_time": "2023-10-16T01:14:53.053634300Z",
     "start_time": "2023-10-16T01:14:51.813601100Z"
    }
   },
   "outputs": [],
   "source": [
    "import pandas as pd\n",
    "import networkx as nx\n",
    "import matplotlib.pyplot as plt\n",
    "import shapefile"
   ]
  },
  {
   "cell_type": "code",
   "execution_count": 3,
   "id": "f57dcb03",
   "metadata": {
    "ExecuteTime": {
     "end_time": "2023-10-16T01:14:54.484091Z",
     "start_time": "2023-10-16T01:14:54.360092600Z"
    }
   },
   "outputs": [],
   "source": [
    "recorrido_bondis = pd.read_csv(\"./data/recorrido-colectivo.csv\")\n",
    "recorrido_metros = pd.read_csv(\"./data/recorrido-de-metrobus.csv\")"
   ]
  },
  {
   "cell_type": "code",
   "execution_count": 4,
   "id": "21778684",
   "metadata": {
    "ExecuteTime": {
     "end_time": "2023-10-16T01:14:59.524091500Z",
     "start_time": "2023-10-16T01:14:55.487093600Z"
    }
   },
   "outputs": [
    {
     "data": {
      "text/plain": "<Figure size 640x480 with 1 Axes>",
      "image/png": "[encoded data removed]"
     },
     "metadata": {},
     "output_type": "display_data"
    }
   ],
   "source": [
    "recorrido_bondis[\"desde\"] = recorrido_bondis[\"desde\"].str.replace(r'\\(.*\\)', '', regex=True).str.strip()\n",
    "recorrido_bondis[\"hasta\"] = recorrido_bondis[\"hasta\"].str.replace(r'\\(.*\\)', '', regex=True).str.strip()\n",
    "\n",
    "df_estaciones = pd.concat([recorrido_bondis[\"desde\"], recorrido_bondis[\"hasta\"]], ignore_index=True)\n",
    "df_estaciones = df_estaciones.drop_duplicates().reset_index().drop(\"index\", axis=1)\n",
    "df_estaciones.columns = [\"ids\"]\n",
    "df_estaciones_mapping = df_estaciones[\"ids\"].reset_index().set_index(\"ids\")['index']\n",
    "\n",
    "recorrido_bondis[\"desde_id\"] = recorrido_bondis[\"desde\"].map(df_estaciones_mapping)\n",
    "recorrido_bondis[\"hasta_id\"] = recorrido_bondis[\"hasta\"].map(df_estaciones_mapping)\n",
    "grafo_estaciones = nx.DiGraph()\n",
    "for id in df_estaciones_mapping:\n",
    "    grafo_estaciones.add_node(id)\n",
    "\n",
    "\n",
    "for index, recorrido_bondi in recorrido_bondis.iterrows():\n",
    "    grafo_estaciones.add_edge(recorrido_bondi[\"desde_id\"], recorrido_bondi[\"hasta_id\"])\n",
    "\n",
    "\n",
    "nx.set_node_attributes(grafo_estaciones, df_estaciones[\"ids\"].to_dict(), 'label')\n",
    "\n",
    "nx.draw(grafo_estaciones)\n",
    "plt.show()\n",
    "\n",
    "nx.write_gexf(grafo_estaciones, \"grafo_estaciones.gexf\")"
   ]
  },
  {
   "cell_type": "code",
   "execution_count": 5,
   "id": "56ca789f",
   "metadata": {
    "ExecuteTime": {
     "end_time": "2023-10-16T01:14:59.602092800Z",
     "start_time": "2023-10-16T01:14:59.526091800Z"
    }
   },
   "outputs": [],
   "source": [
    "processed_wkt = recorrido_bondis[\"WKT\"].str.replace(r'.*?(\\(.*\\)).*?', r'\\1', regex=True).str.strip()\n",
    "processed_wkt = processed_wkt.str.replace(r'[()]', '', regex=True).str.strip()\n",
    "paradas_bondi = pd.DataFrame()\n",
    "paradas_bondi[\"lat\"] = []\n",
    "paradas_bondi[\"lon\"] = []"
   ]
  },
  {
   "cell_type": "code",
   "execution_count": 6,
   "id": "e154d82e",
   "metadata": {
    "ExecuteTime": {
     "end_time": "2023-10-16T01:16:27.533092500Z",
     "start_time": "2023-10-16T01:15:03.057090700Z"
    }
   },
   "outputs": [],
   "source": [
    "coord_pair_dataframes = []\n",
    "\n",
    "for data in processed_wkt:\n",
    "    preprocessed = data.split(\",\")\n",
    "    for coord_pair in preprocessed:\n",
    "        lon, lat = coord_pair.split(\" \")\n",
    "        coord_pair_dataframes.append(pd.DataFrame({'lat': [lat], 'lon': [lon]}))\n",
    "        \n",
    "\n",
    "# Concatenate all DataFrames in the list\n",
    "paradas_bondi = pd.concat(coord_pair_dataframes, ignore_index=True)\n",
    "# paradas_bondi[\"lat\"] = paradas_bondi[\"lat\"].astype(float)\n",
    "# paradas_bondi[\"lon\"] = paradas_bondi[\"lat\"].astype(float)"
   ]
  },
  {
   "cell_type": "code",
   "execution_count": 7,
   "id": "a32b17c3",
   "metadata": {
    "ExecuteTime": {
     "end_time": "2023-10-16T01:16:29.868092600Z",
     "start_time": "2023-10-16T01:16:29.417091300Z"
    }
   },
   "outputs": [],
   "source": [
    "# for i in range(30, 0, -1):\n",
    "#     paradas_bondi_rounded = paradas_bondi.round(i)\n",
    "#     paradas_bondi_rounded = paradas_bondi_rounded.drop_duplicates()\n",
    "#     paradas_bondi_not_rounded = paradas_bondi\n",
    "#     paradas_bondi_not_rounded = paradas_bondi_not_rounded.drop_duplicates()\n",
    "#     print(\"Rounded to\", i, \"decimals\")\n",
    "#     print(len(paradas_bondi_not_rounded), len(paradas_bondi_rounded))\n",
    "paradas_bondi = paradas_bondi.drop_duplicates().reset_index().drop('index', axis=1)\n",
    "paradas_bondi_mapping = paradas_bondi.reset_index().set_index([\"lat\", \"lon\"])[\"index\"]"
   ]
  },
  {
   "cell_type": "code",
   "execution_count": 8,
   "id": "d73dd929",
   "metadata": {
    "ExecuteTime": {
     "end_time": "2023-10-16T01:16:31.923095100Z",
     "start_time": "2023-10-16T01:16:31.242091900Z"
    }
   },
   "outputs": [
    {
     "data": {
      "text/plain": "               LAT         LON  BusLine\n0       -34.627484   -58.35834        0\n1       -34.627254  -58.358688        0\n2       -34.628263  -58.359697        0\n3       -34.628413  -58.359847        0\n4        -34.62852  -58.359933        0\n...            ...         ...      ...\n400627   -34.58539  -58.366628     1097\n400628  -34.584167  -58.368731     1097\n400629  -34.583995  -58.369052     1097\n400630   -34.58333  -58.370211     1097\n400631  -34.582843  -58.371077     1097\n\n[400632 rows x 3 columns]",
      "text/html": "<div>\n<style scoped>\n    .dataframe tbody tr th:only-of-type {\n        vertical-align: middle;\n    }\n\n    .dataframe tbody tr th {\n        vertical-align: top;\n    }\n\n    .dataframe thead th {\n        text-align: right;\n    }\n</style>\n<table border=\"1\" class=\"dataframe\">\n  <thead>\n    <tr style=\"text-align: right;\">\n      <th></th>\n      <th>LAT</th>\n      <th>LON</th>\n      <th>BusLine</th>\n    </tr>\n  </thead>\n  <tbody>\n    <tr>\n      <th>0</th>\n      <td>-34.627484</td>\n      <td>-58.35834</td>\n      <td>0</td>\n    </tr>\n    <tr>\n      <th>1</th>\n      <td>-34.627254</td>\n      <td>-58.358688</td>\n      <td>0</td>\n    </tr>\n    <tr>\n      <th>2</th>\n      <td>-34.628263</td>\n      <td>-58.359697</td>\n      <td>0</td>\n    </tr>\n    <tr>\n      <th>3</th>\n      <td>-34.628413</td>\n      <td>-58.359847</td>\n      <td>0</td>\n    </tr>\n    <tr>\n      <th>4</th>\n      <td>-34.62852</td>\n      <td>-58.359933</td>\n      <td>0</td>\n    </tr>\n    <tr>\n      <th>...</th>\n      <td>...</td>\n      <td>...</td>\n      <td>...</td>\n    </tr>\n    <tr>\n      <th>400627</th>\n      <td>-34.58539</td>\n      <td>-58.366628</td>\n      <td>1097</td>\n    </tr>\n    <tr>\n      <th>400628</th>\n      <td>-34.584167</td>\n      <td>-58.368731</td>\n      <td>1097</td>\n    </tr>\n    <tr>\n      <th>400629</th>\n      <td>-34.583995</td>\n      <td>-58.369052</td>\n      <td>1097</td>\n    </tr>\n    <tr>\n      <th>400630</th>\n      <td>-34.58333</td>\n      <td>-58.370211</td>\n      <td>1097</td>\n    </tr>\n    <tr>\n      <th>400631</th>\n      <td>-34.582843</td>\n      <td>-58.371077</td>\n      <td>1097</td>\n    </tr>\n  </tbody>\n</table>\n<p>400632 rows × 3 columns</p>\n</div>"
     },
     "execution_count": 8,
     "metadata": {},
     "output_type": "execute_result"
    }
   ],
   "source": [
    "recorridos = pd.DataFrame(processed_wkt)\n",
    "recorridos[\"WKT\"] = recorridos[\"WKT\"].str.split(\",\")\n",
    "\n",
    "data = []\n",
    "for index, row in recorridos.iterrows():\n",
    "    coordinates = row[\"WKT\"]\n",
    "    for coord in coordinates:\n",
    "        lon, lat = coord.split(\" \")\n",
    "        data.append({'LAT': lat, 'LON': lon, 'BusLine': index})\n",
    "recorridos = pd.DataFrame(data)\n",
    "recorridos"
   ]
  },
  {
   "cell_type": "code",
   "execution_count": 9,
   "id": "42dea221",
   "metadata": {
    "ExecuteTime": {
     "end_time": "2023-10-16T01:16:33.486094100Z",
     "start_time": "2023-10-16T01:16:33.420092Z"
    }
   },
   "outputs": [],
   "source": [
    "grafo_paradas = nx.DiGraph()\n",
    "for parada in paradas_bondi_mapping:\n",
    "    grafo_paradas.add_node(parada)\n"
   ]
  },
  {
   "cell_type": "code",
   "execution_count": 10,
   "id": "2ded5a10",
   "metadata": {
    "ExecuteTime": {
     "end_time": "2023-10-16T01:16:50.854173400Z",
     "start_time": "2023-10-16T01:16:34.597165200Z"
    }
   },
   "outputs": [
    {
     "data": {
      "text/plain": "               LAT         LON  BusLine     ID\n0       -34.627484   -58.35834        0      0\n1       -34.627254  -58.358688        0      1\n2       -34.628263  -58.359697        0      2\n3       -34.628413  -58.359847        0      3\n4        -34.62852  -58.359933        0      4\n...            ...         ...      ...    ...\n400627   -34.58539  -58.366628     1097  10736\n400628  -34.584167  -58.368731     1097   8615\n400629  -34.583995  -58.369052     1097   8616\n400630   -34.58333  -58.370211     1097   8617\n400631  -34.582843  -58.371077     1097  27334\n\n[400632 rows x 4 columns]",
      "text/html": "<div>\n<style scoped>\n    .dataframe tbody tr th:only-of-type {\n        vertical-align: middle;\n    }\n\n    .dataframe tbody tr th {\n        vertical-align: top;\n    }\n\n    .dataframe thead th {\n        text-align: right;\n    }\n</style>\n<table border=\"1\" class=\"dataframe\">\n  <thead>\n    <tr style=\"text-align: right;\">\n      <th></th>\n      <th>LAT</th>\n      <th>LON</th>\n      <th>BusLine</th>\n      <th>ID</th>\n    </tr>\n  </thead>\n  <tbody>\n    <tr>\n      <th>0</th>\n      <td>-34.627484</td>\n      <td>-58.35834</td>\n      <td>0</td>\n      <td>0</td>\n    </tr>\n    <tr>\n      <th>1</th>\n      <td>-34.627254</td>\n      <td>-58.358688</td>\n      <td>0</td>\n      <td>1</td>\n    </tr>\n    <tr>\n      <th>2</th>\n      <td>-34.628263</td>\n      <td>-58.359697</td>\n      <td>0</td>\n      <td>2</td>\n    </tr>\n    <tr>\n      <th>3</th>\n      <td>-34.628413</td>\n      <td>-58.359847</td>\n      <td>0</td>\n      <td>3</td>\n    </tr>\n    <tr>\n      <th>4</th>\n      <td>-34.62852</td>\n      <td>-58.359933</td>\n      <td>0</td>\n      <td>4</td>\n    </tr>\n    <tr>\n      <th>...</th>\n      <td>...</td>\n      <td>...</td>\n      <td>...</td>\n      <td>...</td>\n    </tr>\n    <tr>\n      <th>400627</th>\n      <td>-34.58539</td>\n      <td>-58.366628</td>\n      <td>1097</td>\n      <td>10736</td>\n    </tr>\n    <tr>\n      <th>400628</th>\n      <td>-34.584167</td>\n      <td>-58.368731</td>\n      <td>1097</td>\n      <td>8615</td>\n    </tr>\n    <tr>\n      <th>400629</th>\n      <td>-34.583995</td>\n      <td>-58.369052</td>\n      <td>1097</td>\n      <td>8616</td>\n    </tr>\n    <tr>\n      <th>400630</th>\n      <td>-34.58333</td>\n      <td>-58.370211</td>\n      <td>1097</td>\n      <td>8617</td>\n    </tr>\n    <tr>\n      <th>400631</th>\n      <td>-34.582843</td>\n      <td>-58.371077</td>\n      <td>1097</td>\n      <td>27334</td>\n    </tr>\n  </tbody>\n</table>\n<p>400632 rows × 4 columns</p>\n</div>"
     },
     "execution_count": 10,
     "metadata": {},
     "output_type": "execute_result"
    }
   ],
   "source": [
    "recorridos[\"ID\"] = recorridos.apply(lambda row: paradas_bondi_mapping.get((row[\"LAT\"], row[\"LON\"]), None), axis=1)\n",
    "recorridos"
   ]
  },
  {
   "cell_type": "code",
   "execution_count": 11,
   "id": "72300fc5",
   "metadata": {
    "ExecuteTime": {
     "end_time": "2023-10-16T01:17:09.279555500Z",
     "start_time": "2023-10-16T01:16:50.856167700Z"
    }
   },
   "outputs": [],
   "source": [
    "buslines = recorridos.groupby(\"BusLine\")\n",
    "edge_attributes = {}\n",
    "for name, busline in buslines:\n",
    "    last_stop = busline[\"ID\"].iloc[0]\n",
    "    for index, row in busline.iterrows():\n",
    "        if index == 0:\n",
    "            continue\n",
    "        grafo_paradas.add_edge(last_stop, row[\"ID\"])\n",
    "        edge_attributes[last_stop, row[\"ID\"]] = row[\"BusLine\"]\n"
   ]
  },
  {
   "cell_type": "code",
   "execution_count": 12,
   "id": "89e28305",
   "metadata": {
    "ExecuteTime": {
     "end_time": "2023-10-16T01:17:09.551527500Z",
     "start_time": "2023-10-16T01:17:09.280525100Z"
    }
   },
   "outputs": [],
   "source": [
    "nx.set_node_attributes(grafo_paradas, paradas_bondi[\"lat\"].astype(float).to_dict(), 'lat')\n",
    "nx.set_node_attributes(grafo_paradas, paradas_bondi[\"lon\"].astype(float).to_dict(), 'lon')\n"
   ]
  },
  {
   "cell_type": "code",
   "execution_count": 13,
   "id": "1097a962",
   "metadata": {
    "ExecuteTime": {
     "end_time": "2023-10-16T01:17:13.306524500Z",
     "start_time": "2023-10-16T01:17:09.560526200Z"
    }
   },
   "outputs": [
    {
     "data": {
      "text/plain": "<Figure size 640x480 with 1 Axes>",
      "image/png": "[encoded data removed]"
     },
     "metadata": {},
     "output_type": "display_data"
    }
   ],
   "source": [
    "nx.draw(grafo_estaciones)\n",
    "plt.show()"
   ]
  },
  {
   "cell_type": "markdown",
   "source": [],
   "metadata": {
    "collapsed": false
   },
   "id": "45bf1d7f00e3e988"
  },
  {
   "cell_type": "code",
   "execution_count": 15,
   "id": "e0bfffd5",
   "metadata": {
    "ExecuteTime": {
     "end_time": "2023-10-16T01:17:19.831559Z",
     "start_time": "2023-10-16T01:17:19.818559200Z"
    }
   },
   "outputs": [
    {
     "name": "stdout",
     "output_type": "stream",
     "text": [
      "54751\n",
      "54751\n"
     ]
    }
   ],
   "source": [
    "print(len(grafo_paradas))\n",
    "print(len(paradas_bondi))\n"
   ]
  },
  {
   "cell_type": "code",
   "execution_count": 16,
   "id": "e95df384",
   "metadata": {
    "ExecuteTime": {
     "end_time": "2023-10-16T01:17:27.662102400Z",
     "start_time": "2023-10-16T01:17:19.836559Z"
    }
   },
   "outputs": [],
   "source": [
    "shp = shapefile.Writer(\"./data/grafo_paradas/grafo_paradas.shp\", shapetype=shapefile.POINT)\n",
    "shp_edges = shapefile.Writer(\"./data/grafo_paradas/edges\", shapeType=shapefile.POLYLINE)\n",
    "shp.field(\"Node_ID\", \"C\")\n",
    "for node, data in grafo_paradas.nodes(data=True):\n",
    "    lon, lat = data[\"lon\"], data[\"lat\"]\n",
    "    shp.point(lon, lat)\n",
    "    shp.record(node)\n",
    "\n",
    "shp_edges.field(\"Edge_ID\", \"C\")\n",
    "for u, v in grafo_paradas.edges():\n",
    "    lon1, lat1 = grafo_paradas.nodes[u][\"lon\"], grafo_paradas.nodes[u][\"lat\"]\n",
    "    lon2, lat2 = grafo_paradas.nodes[v][\"lon\"], grafo_paradas.nodes[v][\"lat\"]\n",
    "    shp_edges.line([[[lon1, lat1], [lon2, lat2]]])\n",
    "    shp_edges.record(f\"{u}-{v}\")\n",
    "\n",
    "\n",
    "shp_edges.close()\n",
    "shp.close()"
   ]
  },
  {
   "cell_type": "code",
   "execution_count": 37,
   "id": "e47f5162",
   "metadata": {
    "ExecuteTime": {
     "end_time": "2023-10-16T01:45:55.175394800Z",
     "start_time": "2023-10-16T01:45:49.473988500Z"
    }
   },
   "outputs": [],
   "source": [
    "# Write the edges in csv format\n",
    "for u, v in grafo_paradas.edges():\n",
    "    grafo_paradas.edges[u, v].pop('BusLine', None)\n",
    "\n",
    "nx.write_edgelist(grafo_paradas, \"./data/adjacencias_paradas.csv\")\n",
    "#open adjacencias_paradas.csv as dataframe, delete the column with the {} and save it as csv back\n",
    "adjacencias = pd.read_csv(\"./data/adjacencias_paradas.csv\", delimiter=\" \")\n",
    "\n",
    "adjacencias = adjacencias.drop(\"{}\", axis=1)\n",
    "adjacencias.to_csv(\"./data/adjacencias_paradas.csv\", index=False)\n",
    "\n",
    "nx.set_edge_attributes(grafo_paradas, edge_attributes, 'BusLine')\n",
    "\n",
    "# Write the graph in gexf format\n",
    "nx.write_gexf(grafo_paradas, \"./data/grafo_paradas.gexf\")\n"
   ]
  },
  {
   "cell_type": "code",
   "execution_count": 51,
   "id": "456f0bac",
   "metadata": {
    "ExecuteTime": {
     "end_time": "2023-10-16T02:24:28.745406300Z",
     "start_time": "2023-10-16T02:23:49.933824500Z"
    }
   },
   "outputs": [],
   "source": [
    "import pandas as pd\n",
    "\n",
    "nodes = pd.DataFrame(columns=[\"id\", \"pos\"])\n",
    "\n",
    "for node, data in grafo_paradas.nodes(data=True):\n",
    "    pos = f\"{data['lat']}, {data['lon']}\"\n",
    "    nodes = pd.concat([nodes, pd.DataFrame({'id': [node], 'pos': [pos]})], ignore_index=True)\n",
    "\n",
    "nodes[\"id\"] = nodes[\"id\"].astype(int)\n",
    "\n",
    "# Remove quotation marks and invisible characters from the 'pos' column\n",
    "nodes[\"pos\"] = nodes[\"pos\"].str.replace(r'[()]', '', regex=True).str.replace(r'\\s+', '', regex=True).str.strip()\n",
    "\n",
    "nodes.to_csv(\"./data/nodes.csv\", index=False)\n"
   ]
  },
  {
   "cell_type": "code",
   "execution_count": 98,
   "outputs": [],
   "source": [
    "# Read the CSVs\n",
    "edges = pd.read_csv(\"./data/adjacencias_paradas.csv\", delimiter=\",\")\n",
    "nodes = pd.read_csv(\"./data/nodes.csv\")\n",
    "\n",
    "# Count the number of times each node appears in the edges CSV\n",
    "node_counts = edges[\"0\"].value_counts().reset_index()\n",
    "node_counts.columns = [\"id\", \"count\"]\n",
    "\n",
    "# Sort nodes by the count in descending order\n",
    "nodes = nodes.merge(node_counts, on=\"id\")\n",
    "nodes = nodes.sort_values(by=\"count\", ascending=False)\n",
    "nodes.drop(\"count\", axis=1, inplace=True)\n",
    "\n",
    "# Limit to the first 30 nodes\n",
    "nodes = nodes.head(30)\n",
    "\n",
    "# Create a dictionary to map old node IDs to new node IDs\n",
    "id_mapping = dict(zip(nodes[\"id\"], range(100)))\n",
    "\n",
    "# Save the selected nodes to nodes100.csv\n",
    "nodes.to_csv(\"./data/nodes30.csv\", index=False)\n",
    "\n",
    "# Rename columns\n",
    "edges.columns = [\"id1\", \"id2\"]\n",
    "\n",
    "# Filter edges for the 100 nodes in nodes100.csv\n",
    "edges = edges[edges[\"id1\"].isin(nodes[\"id\"]) & edges[\"id2\"].isin(nodes[\"id\"])]\n",
    "\n",
    "# Map old node IDs to new node IDs\n",
    "edges[\"id1\"] = edges[\"id1\"].map(id_mapping)\n",
    "edges[\"id2\"] = edges[\"id2\"].map(id_mapping)\n",
    "\n",
    "# Save the filtered edges to edges100.csv\n",
    "edges.to_csv(\"./data/edges30.csv\", index=False)\n",
    "\n"
   ],
   "metadata": {
    "collapsed": false,
    "ExecuteTime": {
     "end_time": "2023-10-17T05:42:29.308483500Z",
     "start_time": "2023-10-17T05:42:29.209484Z"
    }
   },
   "id": "28e2e528f7c83334"
  },
  {
   "cell_type": "code",
   "execution_count": null,
   "outputs": [],
   "source": [],
   "metadata": {
    "collapsed": false
   },
   "id": "412b170be224cb2d"
  }
 ],
 "metadata": {
  "kernelspec": {
   "display_name": "Python 3 (ipykernel)",
   "language": "python",
   "name": "python3"
  },
  "language_info": {
   "codemirror_mode": {
    "name": "ipython",
    "version": 3
   },
   "file_extension": ".py",
   "mimetype": "text/x-python",
   "name": "python",
   "nbconvert_exporter": "python",
   "pygments_lexer": "ipython3",
   "version": "3.9.12"
  }
 },
 "nbformat": 4,
 "nbformat_minor": 5
}
