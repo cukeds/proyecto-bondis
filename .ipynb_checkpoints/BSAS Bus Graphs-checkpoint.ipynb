{
 "cells": [
  {
   "cell_type": "code",
   "execution_count": 1,
   "id": "90b75d79",
   "metadata": {},
   "outputs": [],
   "source": [
    "import pandas as pd\n",
    "import networkx as nx\n",
    "import matplotlib.pyplot as plt\n",
    "import shapefile"
   ]
  },
  {
   "cell_type": "code",
   "execution_count": 2,
   "id": "f57dcb03",
   "metadata": {},
   "outputs": [],
   "source": [
    "recorrido_bondis = pd.read_csv(\"./data/recorrido-colectivo.csv\")\n",
    "recorrido_metros = pd.read_csv(\"./data/recorrido-de-metrobus.csv\")"
   ]
  },
  {
   "cell_type": "code",
   "execution_count": 3,
   "id": "21778684",
   "metadata": {},
   "outputs": [
    {
     "data": {
      "image/png": "[encoded data removed]",
      "text/plain": [
       "<Figure size 640x480 with 1 Axes>"
      ]
     },
     "metadata": {},
     "output_type": "display_data"
    }
   ],
   "source": [
    "recorrido_bondis[\"desde\"] = recorrido_bondis[\"desde\"].str.replace(r'\\(.*\\)', '', regex=True).str.strip()\n",
    "recorrido_bondis[\"hasta\"] = recorrido_bondis[\"hasta\"].str.replace(r'\\(.*\\)', '', regex=True).str.strip()\n",
    "\n",
    "df_estaciones = pd.concat([recorrido_bondis[\"desde\"], recorrido_bondis[\"hasta\"]], ignore_index=True)\n",
    "df_estaciones = df_estaciones.drop_duplicates().reset_index().drop(\"index\", axis=1)\n",
    "df_estaciones.columns = [\"ids\"]\n",
    "df_estaciones_mapping = df_estaciones[\"ids\"].reset_index().set_index(\"ids\")['index']\n",
    "\n",
    "recorrido_bondis[\"desde_id\"] = recorrido_bondis[\"desde\"].map(df_estaciones_mapping)\n",
    "recorrido_bondis[\"hasta_id\"] = recorrido_bondis[\"hasta\"].map(df_estaciones_mapping)\n",
    "grafo_estaciones = nx.DiGraph()\n",
    "for id in df_estaciones_mapping:\n",
    "    grafo_estaciones.add_node(id)\n",
    "\n",
    "\n",
    "for index, recorrido_bondi in recorrido_bondis.iterrows():\n",
    "    grafo_estaciones.add_edge(recorrido_bondi[\"desde_id\"], recorrido_bondi[\"hasta_id\"])\n",
    "\n",
    "\n",
    "nx.set_node_attributes(grafo_estaciones, df_estaciones[\"ids\"].to_dict(), 'label')\n",
    "\n",
    "nx.draw(grafo_estaciones)\n",
    "plt.show()\n",
    "\n",
    "nx.write_gexf(grafo_estaciones, \"grafo_estaciones.gexf\")"
   ]
  },
  {
   "cell_type": "code",
   "execution_count": 4,
   "id": "56ca789f",
   "metadata": {},
   "outputs": [],
   "source": [
    "processed_wkt = recorrido_bondis[\"WKT\"].str.replace(r'.*?(\\(.*\\)).*?', r'\\1', regex=True).str.strip()\n",
    "processed_wkt = processed_wkt.str.replace(r'[()]', '', regex=True).str.strip()\n",
    "paradas_bondi = pd.DataFrame()\n",
    "paradas_bondi[\"lat\"] = []\n",
    "paradas_bondi[\"lon\"] = []"
   ]
  },
  {
   "cell_type": "code",
   "execution_count": 5,
   "id": "e154d82e",
   "metadata": {},
   "outputs": [],
   "source": [
    "coord_pair_dataframes = []\n",
    "\n",
    "for data in processed_wkt:\n",
    "    preprocessed = data.split(\",\")\n",
    "    for coord_pair in preprocessed:\n",
    "        lon, lat = coord_pair.split(\" \")\n",
    "        coord_pair_dataframes.append(pd.DataFrame({'lat': [lat], 'lon': [lon]}))\n",
    "        \n",
    "\n",
    "# Concatenate all DataFrames in the list\n",
    "paradas_bondi = pd.concat(coord_pair_dataframes, ignore_index=True)\n",
    "# paradas_bondi[\"lat\"] = paradas_bondi[\"lat\"].astype(float)\n",
    "# paradas_bondi[\"lon\"] = paradas_bondi[\"lat\"].astype(float)"
   ]
  },
  {
   "cell_type": "code",
   "execution_count": 6,
   "id": "a32b17c3",
   "metadata": {},
   "outputs": [],
   "source": [
    "# for i in range(30, 0, -1):\n",
    "#     paradas_bondi_rounded = paradas_bondi.round(i)\n",
    "#     paradas_bondi_rounded = paradas_bondi_rounded.drop_duplicates()\n",
    "#     paradas_bondi_not_rounded = paradas_bondi\n",
    "#     paradas_bondi_not_rounded = paradas_bondi_not_rounded.drop_duplicates()\n",
    "#     print(\"Rounded to\", i, \"decimals\")\n",
    "#     print(len(paradas_bondi_not_rounded), len(paradas_bondi_rounded))\n",
    "paradas_bondi = paradas_bondi.drop_duplicates().reset_index().drop('index', axis=1)\n",
    "paradas_bondi_mapping = paradas_bondi.reset_index().set_index([\"lat\", \"lon\"])[\"index\"]"
   ]
  },
  {
   "cell_type": "code",
   "execution_count": 7,
   "id": "d73dd929",
   "metadata": {},
   "outputs": [
    {
     "data": {
      "text/html": [
       "<div>\n",
       "<style scoped>\n",
       "    .dataframe tbody tr th:only-of-type {\n",
       "        vertical-align: middle;\n",
       "    }\n",
       "\n",
       "    .dataframe tbody tr th {\n",
       "        vertical-align: top;\n",
       "    }\n",
       "\n",
       "    .dataframe thead th {\n",
       "        text-align: right;\n",
       "    }\n",
       "</style>\n",
       "<table border=\"1\" class=\"dataframe\">\n",
       "  <thead>\n",
       "    <tr style=\"text-align: right;\">\n",
       "      <th></th>\n",
       "      <th>LAT</th>\n",
       "      <th>LON</th>\n",
       "      <th>BusLine</th>\n",
       "    </tr>\n",
       "  </thead>\n",
       "  <tbody>\n",
       "    <tr>\n",
       "      <th>0</th>\n",
       "      <td>-34.627484</td>\n",
       "      <td>-58.35834</td>\n",
       "      <td>0</td>\n",
       "    </tr>\n",
       "    <tr>\n",
       "      <th>1</th>\n",
       "      <td>-34.627254</td>\n",
       "      <td>-58.358688</td>\n",
       "      <td>0</td>\n",
       "    </tr>\n",
       "    <tr>\n",
       "      <th>2</th>\n",
       "      <td>-34.628263</td>\n",
       "      <td>-58.359697</td>\n",
       "      <td>0</td>\n",
       "    </tr>\n",
       "    <tr>\n",
       "      <th>3</th>\n",
       "      <td>-34.628413</td>\n",
       "      <td>-58.359847</td>\n",
       "      <td>0</td>\n",
       "    </tr>\n",
       "    <tr>\n",
       "      <th>4</th>\n",
       "      <td>-34.62852</td>\n",
       "      <td>-58.359933</td>\n",
       "      <td>0</td>\n",
       "    </tr>\n",
       "    <tr>\n",
       "      <th>...</th>\n",
       "      <td>...</td>\n",
       "      <td>...</td>\n",
       "      <td>...</td>\n",
       "    </tr>\n",
       "    <tr>\n",
       "      <th>400627</th>\n",
       "      <td>-34.58539</td>\n",
       "      <td>-58.366628</td>\n",
       "      <td>1097</td>\n",
       "    </tr>\n",
       "    <tr>\n",
       "      <th>400628</th>\n",
       "      <td>-34.584167</td>\n",
       "      <td>-58.368731</td>\n",
       "      <td>1097</td>\n",
       "    </tr>\n",
       "    <tr>\n",
       "      <th>400629</th>\n",
       "      <td>-34.583995</td>\n",
       "      <td>-58.369052</td>\n",
       "      <td>1097</td>\n",
       "    </tr>\n",
       "    <tr>\n",
       "      <th>400630</th>\n",
       "      <td>-34.58333</td>\n",
       "      <td>-58.370211</td>\n",
       "      <td>1097</td>\n",
       "    </tr>\n",
       "    <tr>\n",
       "      <th>400631</th>\n",
       "      <td>-34.582843</td>\n",
       "      <td>-58.371077</td>\n",
       "      <td>1097</td>\n",
       "    </tr>\n",
       "  </tbody>\n",
       "</table>\n",
       "<p>400632 rows × 3 columns</p>\n",
       "</div>"
      ],
      "text/plain": [
       "               LAT         LON  BusLine\n",
       "0       -34.627484   -58.35834        0\n",
       "1       -34.627254  -58.358688        0\n",
       "2       -34.628263  -58.359697        0\n",
       "3       -34.628413  -58.359847        0\n",
       "4        -34.62852  -58.359933        0\n",
       "...            ...         ...      ...\n",
       "400627   -34.58539  -58.366628     1097\n",
       "400628  -34.584167  -58.368731     1097\n",
       "400629  -34.583995  -58.369052     1097\n",
       "400630   -34.58333  -58.370211     1097\n",
       "400631  -34.582843  -58.371077     1097\n",
       "\n",
       "[400632 rows x 3 columns]"
      ]
     },
     "execution_count": 7,
     "metadata": {},
     "output_type": "execute_result"
    }
   ],
   "source": [
    "recorridos = pd.DataFrame(processed_wkt)\n",
    "recorridos[\"WKT\"] = recorridos[\"WKT\"].str.split(\",\")\n",
    "\n",
    "data = []\n",
    "for index, row in recorridos.iterrows():\n",
    "    coordinates = row[\"WKT\"]\n",
    "    for coord in coordinates:\n",
    "        lon, lat = coord.split(\" \")\n",
    "        data.append({'LAT': lat, 'LON': lon, 'BusLine': index})\n",
    "recorridos = pd.DataFrame(data)\n",
    "recorridos"
   ]
  },
  {
   "cell_type": "code",
   "execution_count": 8,
   "id": "42dea221",
   "metadata": {},
   "outputs": [],
   "source": [
    "grafo_paradas = nx.DiGraph()\n",
    "for parada in paradas_bondi_mapping:\n",
    "    grafo_paradas.add_node(parada)\n"
   ]
  },
  {
   "cell_type": "code",
   "execution_count": 9,
   "id": "2ded5a10",
   "metadata": {},
   "outputs": [
    {
     "data": {
      "text/html": [
       "<div>\n",
       "<style scoped>\n",
       "    .dataframe tbody tr th:only-of-type {\n",
       "        vertical-align: middle;\n",
       "    }\n",
       "\n",
       "    .dataframe tbody tr th {\n",
       "        vertical-align: top;\n",
       "    }\n",
       "\n",
       "    .dataframe thead th {\n",
       "        text-align: right;\n",
       "    }\n",
       "</style>\n",
       "<table border=\"1\" class=\"dataframe\">\n",
       "  <thead>\n",
       "    <tr style=\"text-align: right;\">\n",
       "      <th></th>\n",
       "      <th>LAT</th>\n",
       "      <th>LON</th>\n",
       "      <th>BusLine</th>\n",
       "      <th>ID</th>\n",
       "    </tr>\n",
       "  </thead>\n",
       "  <tbody>\n",
       "    <tr>\n",
       "      <th>0</th>\n",
       "      <td>-34.627484</td>\n",
       "      <td>-58.35834</td>\n",
       "      <td>0</td>\n",
       "      <td>0</td>\n",
       "    </tr>\n",
       "    <tr>\n",
       "      <th>1</th>\n",
       "      <td>-34.627254</td>\n",
       "      <td>-58.358688</td>\n",
       "      <td>0</td>\n",
       "      <td>1</td>\n",
       "    </tr>\n",
       "    <tr>\n",
       "      <th>2</th>\n",
       "      <td>-34.628263</td>\n",
       "      <td>-58.359697</td>\n",
       "      <td>0</td>\n",
       "      <td>2</td>\n",
       "    </tr>\n",
       "    <tr>\n",
       "      <th>3</th>\n",
       "      <td>-34.628413</td>\n",
       "      <td>-58.359847</td>\n",
       "      <td>0</td>\n",
       "      <td>3</td>\n",
       "    </tr>\n",
       "    <tr>\n",
       "      <th>4</th>\n",
       "      <td>-34.62852</td>\n",
       "      <td>-58.359933</td>\n",
       "      <td>0</td>\n",
       "      <td>4</td>\n",
       "    </tr>\n",
       "    <tr>\n",
       "      <th>...</th>\n",
       "      <td>...</td>\n",
       "      <td>...</td>\n",
       "      <td>...</td>\n",
       "      <td>...</td>\n",
       "    </tr>\n",
       "    <tr>\n",
       "      <th>400627</th>\n",
       "      <td>-34.58539</td>\n",
       "      <td>-58.366628</td>\n",
       "      <td>1097</td>\n",
       "      <td>10736</td>\n",
       "    </tr>\n",
       "    <tr>\n",
       "      <th>400628</th>\n",
       "      <td>-34.584167</td>\n",
       "      <td>-58.368731</td>\n",
       "      <td>1097</td>\n",
       "      <td>8615</td>\n",
       "    </tr>\n",
       "    <tr>\n",
       "      <th>400629</th>\n",
       "      <td>-34.583995</td>\n",
       "      <td>-58.369052</td>\n",
       "      <td>1097</td>\n",
       "      <td>8616</td>\n",
       "    </tr>\n",
       "    <tr>\n",
       "      <th>400630</th>\n",
       "      <td>-34.58333</td>\n",
       "      <td>-58.370211</td>\n",
       "      <td>1097</td>\n",
       "      <td>8617</td>\n",
       "    </tr>\n",
       "    <tr>\n",
       "      <th>400631</th>\n",
       "      <td>-34.582843</td>\n",
       "      <td>-58.371077</td>\n",
       "      <td>1097</td>\n",
       "      <td>27334</td>\n",
       "    </tr>\n",
       "  </tbody>\n",
       "</table>\n",
       "<p>400632 rows × 4 columns</p>\n",
       "</div>"
      ],
      "text/plain": [
       "               LAT         LON  BusLine     ID\n",
       "0       -34.627484   -58.35834        0      0\n",
       "1       -34.627254  -58.358688        0      1\n",
       "2       -34.628263  -58.359697        0      2\n",
       "3       -34.628413  -58.359847        0      3\n",
       "4        -34.62852  -58.359933        0      4\n",
       "...            ...         ...      ...    ...\n",
       "400627   -34.58539  -58.366628     1097  10736\n",
       "400628  -34.584167  -58.368731     1097   8615\n",
       "400629  -34.583995  -58.369052     1097   8616\n",
       "400630   -34.58333  -58.370211     1097   8617\n",
       "400631  -34.582843  -58.371077     1097  27334\n",
       "\n",
       "[400632 rows x 4 columns]"
      ]
     },
     "execution_count": 9,
     "metadata": {},
     "output_type": "execute_result"
    }
   ],
   "source": [
    "recorridos[\"ID\"] = recorridos.apply(lambda row: paradas_bondi_mapping.get((row[\"LAT\"], row[\"LON\"]), None), axis=1)\n",
    "recorridos"
   ]
  },
  {
   "cell_type": "code",
   "execution_count": 35,
   "id": "72300fc5",
   "metadata": {},
   "outputs": [],
   "source": [
    "buslines = recorridos.groupby(\"BusLine\")\n",
    "edge_attributes = {}\n",
    "for name, busline in buslines:\n",
    "    last_stop = busline[\"ID\"].iloc[0]\n",
    "    for index, row in busline.iterrows():\n",
    "        if index == 0:\n",
    "            continue\n",
    "        grafo_paradas.add_edge(last_stop, row[\"ID\"])\n",
    "        edge_attributes[last_stop, row[\"ID\"]] = row[\"BusLine\"]\n"
   ]
  },
  {
   "cell_type": "code",
   "execution_count": 36,
   "id": "89e28305",
   "metadata": {},
   "outputs": [],
   "source": [
    "nx.set_node_attributes(grafo_paradas, paradas_bondi[\"lat\"].astype(float).to_dict(), 'lat')\n",
    "nx.set_node_attributes(grafo_paradas, paradas_bondi[\"lon\"].astype(float).to_dict(), 'lon')\n",
    "nx.set_edge_attributes(grafo_paradas, edge_attributes, 'BusLine')\n"
   ]
  },
  {
   "cell_type": "code",
   "execution_count": 12,
   "id": "1097a962",
   "metadata": {},
   "outputs": [
    {
     "data": {
      "image/png": "[encoded data removed]",
      "text/plain": [
       "<Figure size 640x480 with 1 Axes>"
      ]
     },
     "metadata": {},
     "output_type": "display_data"
    }
   ],
   "source": [
    "nx.draw(grafo_estaciones)\n",
    "plt.show()"
   ]
  },
  {
   "cell_type": "code",
   "execution_count": 41,
   "id": "4fc23b0c",
   "metadata": {},
   "outputs": [],
   "source": [
    "nx.write_gexf(grafo_paradas, \"./data/grafo_paradas.gexf\")"
   ]
  },
  {
   "cell_type": "code",
   "execution_count": 37,
   "id": "e0bfffd5",
   "metadata": {},
   "outputs": [
    {
     "name": "stdout",
     "output_type": "stream",
     "text": [
      "54751\n",
      "54751\n"
     ]
    }
   ],
   "source": [
    "print(len(grafo_paradas))\n",
    "print(len(paradas_bondi))\n"
   ]
  },
  {
   "cell_type": "code",
   "execution_count": 28,
   "id": "e95df384",
   "metadata": {},
   "outputs": [],
   "source": [
    "shp = shapefile.Writer(\"./data/grafo_paradas/grafo_paradas.shp\", shapetype=shapefile.POINT)\n",
    "shp_edges = shapefile.Writer(\"./data/grafo_paradas/edges\", shapeType=shapefile.POLYLINE)\n",
    "shp.field(\"Node_ID\", \"C\")\n",
    "for node, data in grafo_paradas.nodes(data=True):\n",
    "    lon, lat = data[\"lon\"], data[\"lat\"]\n",
    "    shp.point(lon, lat)\n",
    "    shp.record(node)\n",
    "\n",
    "shp_edges.field(\"Edge_ID\", \"C\")\n",
    "for u, v in grafo_paradas.edges():\n",
    "    lon1, lat1 = grafo_paradas.nodes[u][\"lon\"], grafo_paradas.nodes[u][\"lat\"]\n",
    "    lon2, lat2 = grafo_paradas.nodes[v][\"lon\"], grafo_paradas.nodes[v][\"lat\"]\n",
    "    shp_edges.line([[[lon1, lat1], [lon2, lat2]]])\n",
    "    shp_edges.record(f\"{u}-{v}\")\n",
    "\n",
    "\n",
    "shp_edges.close()\n",
    "shp.close()"
   ]
  },
  {
   "cell_type": "code",
   "execution_count": 38,
   "id": "e47f5162",
   "metadata": {},
   "outputs": [],
   "source": [
    "nx.write_edgelist(grafo_paradas, \"./data/adjacencias_paradas.csv\")"
   ]
  },
  {
   "cell_type": "code",
   "execution_count": null,
   "id": "456f0bac",
   "metadata": {},
   "outputs": [],
   "source": []
  }
 ],
 "metadata": {
  "kernelspec": {
   "display_name": "Python 3 (ipykernel)",
   "language": "python",
   "name": "python3"
  },
  "language_info": {
   "codemirror_mode": {
    "name": "ipython",
    "version": 3
   },
   "file_extension": ".py",
   "mimetype": "text/x-python",
   "name": "python",
   "nbconvert_exporter": "python",
   "pygments_lexer": "ipython3",
   "version": "3.9.12"
  }
 },
 "nbformat": 4,
 "nbformat_minor": 5
}
